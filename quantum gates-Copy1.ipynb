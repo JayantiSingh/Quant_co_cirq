{
 "cells": [
  {
   "cell_type": "code",
   "execution_count": 3,
   "metadata": {},
   "outputs": [
    {
     "name": "stdout",
     "output_type": "stream",
     "text": [
      "(0, 0): ───H───\n",
      "\n",
      "(0, 2): ───H───\n",
      "\n",
      "(1, 1): ───H───\n",
      "\n",
      "(2, 0): ───H───\n",
      "\n",
      "(2, 2): ───H───\n"
     ]
    }
   ],
   "source": [
    "#hadamard gate\n",
    "circuit=cirq.Circuit()\n",
    "circuit.append(cirq.H(q) for q in qubits if (q.row+q.col)%2==0)\n",
    "print(circuit)"
   ]
  },
  {
   "cell_type": "code",
   "execution_count": 4,
   "metadata": {},
   "outputs": [
    {
     "name": "stdout",
     "output_type": "stream",
     "text": [
      "(0, 1): ───X───\n",
      "\n",
      "(1, 0): ───X───\n",
      "\n",
      "(1, 2): ───X───\n",
      "\n",
      "(2, 1): ───X───\n"
     ]
    }
   ],
   "source": [
    "#pauli x gate\n",
    "circuit=cirq.Circuit()\n",
    "circuit.append(cirq.X(q) for q in qubits if (q.row+q.col)%2==1)\n",
    "print(circuit)"
   ]
  },
  {
   "cell_type": "code",
   "execution_count": 7,
   "metadata": {},
   "outputs": [
    {
     "name": "stdout",
     "output_type": "stream",
     "text": [
      "(0, 0): ───@───────\n",
      "           │\n",
      "(0, 1): ───@───@───\n",
      "               │\n",
      "(0, 2): ───────@───\n"
     ]
    }
   ],
   "source": [
    "# controlled NOT gate\n",
    "cz01=cirq.CZ(qubits[0],qubits[1])\n",
    "\n",
    "cz12=cirq.CZ(qubits[1],qubits[2])\n",
    "moment0=cirq.Moment([cz01])\n",
    "moment1=cirq.Moment([cz12])\n",
    "circuit=cirq.Circuit((moment0,moment1))\n",
    "print(circuit)"
   ]
  }
 ],
 "metadata": {
  "kernelspec": {
   "display_name": "Python 3",
   "language": "python",
   "name": "python3"
  },
  "language_info": {
   "codemirror_mode": {
    "name": "ipython",
    "version": 3
   },
   "file_extension": ".py",
   "mimetype": "text/x-python",
   "name": "python",
   "nbconvert_exporter": "python",
   "pygments_lexer": "ipython3",
   "version": "3.6.2"
  }
 },
 "nbformat": 4,
 "nbformat_minor": 2
}

{
 "cells": [
  {
   "cell_type": "code",
   "execution_count": 2,
   "metadata": {},
   "outputs": [
    {
     "name": "stdout",
     "output_type": "stream",
     "text": [
      "(0, 0)───(0, 1)───(0, 2)───(0, 3)───(0, 4)───(0, 5)───(0, 6)───(0, 7)───(0, 8)───(0, 9)───(0, 10)\n",
      "│        │        │        │        │        │        │        │        │        │        │\n",
      "│        │        │        │        │        │        │        │        │        │        │\n",
      "(1, 0)───(1, 1)───(1, 2)───(1, 3)───(1, 4)───(1, 5)───(1, 6)───(1, 7)───(1, 8)───(1, 9)───(1, 10)\n"
     ]
    }
   ],
   "source": [
    "import cirq\n",
    "print(cirq.google.Foxtail)"
   ]
  },
  {
   "cell_type": "code",
   "execution_count": 3,
   "metadata": {},
   "outputs": [
    {
     "name": "stdout",
     "output_type": "stream",
     "text": [
      "[cirq.GridQubit(0, 0), cirq.GridQubit(0, 1), cirq.GridQubit(0, 2), cirq.GridQubit(1, 0), cirq.GridQubit(1, 1), cirq.GridQubit(1, 2), cirq.GridQubit(2, 0), cirq.GridQubit(2, 1), cirq.GridQubit(2, 2)]\n"
     ]
    }
   ],
   "source": [
    "import cirq\n",
    "length=3\n",
    "qubits=[cirq.GridQubit(i,j) for i in range(length) for j in range(length)]\n",
    "print (qubits)"
   ]
  },
  {
   "cell_type": "code",
   "execution_count": 4,
   "metadata": {},
   "outputs": [
    {
     "name": "stdout",
     "output_type": "stream",
     "text": [
      "X\n"
     ]
    }
   ],
   "source": [
    "#applying a gate at qubit location 0,0\n",
    "x_gate=cirq.X\n",
    "print(x_gate)"
   ]
  },
  {
   "cell_type": "code",
   "execution_count": 5,
   "metadata": {},
   "outputs": [
    {
     "name": "stdout",
     "output_type": "stream",
     "text": [
      "X((0, 0))\n"
     ]
    }
   ],
   "source": [
    "x_gate=cirq.X\n",
    "#turn it into an operation\n",
    "x_op=x_gate(qubits[0])\n",
    "print(x_op)"
   ]
  },
  {
   "cell_type": "code",
   "execution_count": 6,
   "metadata": {},
   "outputs": [
    {
     "name": "stdout",
     "output_type": "stream",
     "text": [
      "X((0, 2)) and CZ((0, 0), (0, 1))\n"
     ]
    }
   ],
   "source": [
    "# defining a moment\n",
    "cz = cirq.CZ(qubits[0], qubits[1])\n",
    "x = cirq.X(qubits[2])\n",
    "moment = cirq.Moment([x, cz])\n",
    "print(moment)"
   ]
  },
  {
   "cell_type": "code",
   "execution_count": 7,
   "metadata": {},
   "outputs": [
    {
     "name": "stdout",
     "output_type": "stream",
     "text": [
      "(0, 0): ───@───────\n",
      "           │\n",
      "(0, 1): ───@───@───\n",
      "               │\n",
      "(0, 2): ───X───@───\n"
     ]
    }
   ],
   "source": [
    "#define a circuit by combining moments together\n",
    "cz01=cirq.CZ(qubits[0],qubits[1])\n",
    "x2=cirq.X(qubits[2])\n",
    "cz12=cirq.CZ(qubits[1],qubits[2])\n",
    "moment0=cirq.Moment([cz01,x2])\n",
    "moment1=cirq.Moment([cz12])\n",
    "circuit=cirq.Circuit((moment0,moment1))\n",
    "print(circuit)"
   ]
  },
  {
   "cell_type": "code",
   "execution_count": 8,
   "metadata": {},
   "outputs": [
    {
     "name": "stdout",
     "output_type": "stream",
     "text": [
      "(0, 0): ───@───────────\n",
      "           │\n",
      "(0, 1): ───@───@───X───\n",
      "               │\n",
      "(0, 2): ───X───@───────\n",
      "\n",
      "(1, 0): ───X───────────\n",
      "\n",
      "(1, 2): ───X───────────\n",
      "\n",
      "(2, 1): ───X───────────\n"
     ]
    }
   ],
   "source": [
    "# performing append operation\n",
    "circuit.append(cirq.X(q) for q in qubits if (q.row+q.col)%2==1)\n",
    "print(circuit)"
   ]
  },
  {
   "cell_type": "code",
   "execution_count": 9,
   "metadata": {},
   "outputs": [
    {
     "name": "stdout",
     "output_type": "stream",
     "text": [
      "(0, 0): ───@───H───────\n",
      "           │\n",
      "(0, 1): ───@───@───X───\n",
      "               │\n",
      "(0, 2): ───X───@───H───\n",
      "\n",
      "(1, 0): ───X───────────\n",
      "\n",
      "(1, 1): ───H───────────\n",
      "\n",
      "(1, 2): ───X───────────\n",
      "\n",
      "(2, 0): ───H───────────\n",
      "\n",
      "(2, 1): ───X───────────\n",
      "\n",
      "(2, 2): ───H───────────\n"
     ]
    }
   ],
   "source": [
    "#append operation\n",
    "circuit.append(cirq.H(q) for q in qubits if (q.row+q.col)%2==0)\n",
    "print(circuit)"
   ]
  },
  {
   "cell_type": "code",
   "execution_count": 10,
   "metadata": {},
   "outputs": [
    {
     "name": "stdout",
     "output_type": "stream",
     "text": [
      "Moment 0:CZ((0, 0), (0, 1)) and X((0, 2)) and X((1, 0)) and X((1, 2)) and X((2, 1)) and H((1, 1)) and H((2, 0)) and H((2, 2))\n",
      "Moment 1:CZ((0, 1), (0, 2)) and H((0, 0))\n",
      "Moment 2:X((0, 1)) and H((0, 2))\n"
     ]
    }
   ],
   "source": [
    "#look at circuit moment\n",
    "for i,m in enumerate(circuit):\n",
    "    print('Moment {}:{}'.format(i,m))"
   ]
  }
 ],
 "metadata": {
  "kernelspec": {
   "display_name": "Python 3",
   "language": "python",
   "name": "python3"
  },
  "language_info": {
   "codemirror_mode": {
    "name": "ipython",
    "version": 3
   },
   "file_extension": ".py",
   "mimetype": "text/x-python",
   "name": "python",
   "nbconvert_exporter": "python",
   "pygments_lexer": "ipython3",
   "version": "3.6.2"
  }
 },
 "nbformat": 4,
 "nbformat_minor": 2
}
